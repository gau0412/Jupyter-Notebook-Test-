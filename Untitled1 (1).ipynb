{
  "metadata": {
    "language_info": {
      "codemirror_mode": {
        "name": "python",
        "version": 3
      },
      "file_extension": ".py",
      "mimetype": "text/x-python",
      "name": "python",
      "nbconvert_exporter": "python",
      "pygments_lexer": "ipython3",
      "version": "3.8"
    },
    "kernelspec": {
      "name": "python",
      "display_name": "Pyolite",
      "language": "python"
    }
  },
  "nbformat_minor": 4,
  "nbformat": 4,
  "cells": [
    {
      "cell_type": "markdown",
      "source": "# My Jupyter Notebook on IBM Watson Studio",
      "metadata": {}
    },
    {
      "cell_type": "markdown",
      "source": "**Gaurav Dhende**  \nProcess Analyst",
      "metadata": {}
    },
    {
      "cell_type": "markdown",
      "source": "*I am interested in data science because i have studied Maths,Statistics in college and i always feel that i should work in a field that is relevent to subject's that i have studied*",
      "metadata": {}
    },
    {
      "cell_type": "markdown",
      "source": "## Following Code will add number's ##",
      "metadata": {}
    },
    {
      "cell_type": "code",
      "source": "a=60\nb=41\nprint(a+b)",
      "metadata": {
        "trusted": true
      },
      "execution_count": 7,
      "outputs": [
        {
          "name": "stdout",
          "text": "101\n",
          "output_type": "stream"
        }
      ]
    },
    {
      "cell_type": "markdown",
      "source": "- 1\n- 2\n- 3\n\n\n\n|Name| |Age| |Basic Salary|\n|----| |---| |----|\n|Rajesh| |30| |60000|\n|Prashant| |35| |30000|\n|Rahu| |25| |25000|",
      "metadata": {}
    },
    {
      "cell_type": "code",
      "source": "",
      "metadata": {},
      "execution_count": null,
      "outputs": []
    }
  ]
}